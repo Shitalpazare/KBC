{
 "cells": [
  {
   "cell_type": "code",
   "execution_count": 1,
   "id": "8a3dd8a6",
   "metadata": {},
   "outputs": [],
   "source": [
    "from tkinter import *\n",
    "import random\n",
    "import time"
   ]
  },
  {
   "cell_type": "code",
   "execution_count": 2,
   "id": "00ff0f40",
   "metadata": {},
   "outputs": [],
   "source": [
    "root = Tk()\n",
    "root.geometry('300x300')\n",
    "root.title('Shital Pazare- KBC')\n",
    "Label(root, text= 'KBC \\n Have Fun!' , font = 'arial 20 bold').pack()\n",
    "\n",
    "Label(root, text = 'Click Below :', font = 'arial 15 bold').place(x=40, y=80)\n"
   ]
  },
  {
   "cell_type": "code",
   "execution_count": 3,
   "id": "812bee5c",
   "metadata": {},
   "outputs": [],
   "source": [
    "def detail1():\n",
    "    age = int(input('Age '))\n",
    "    age_min = int(15)\n",
    "    age_max = int(40)\n",
    "    if age >= age_min and age <= age_max:\n",
    "        print('Enter your name')\n",
    "    else:\n",
    "        print('Sorry you does not meet the age criteria')"
   ]
  },
  {
   "cell_type": "code",
   "execution_count": 4,
   "id": "d0dafe86",
   "metadata": {},
   "outputs": [],
   "source": [
    "def detail2():\n",
    "    name= input('Name ')\n",
    "    print(\"Hello \" + name + \"! Best of Luck!\")\n",
    "    time.sleep(2)\n",
    "    print(\"The game is about to start!\\nLet's play KBC!\")\n",
    "    time.sleep(3)\n",
    "    print(\" Your first question is\")"
   ]
  },
  {
   "cell_type": "code",
   "execution_count": 5,
   "id": "52abbe96",
   "metadata": {},
   "outputs": [],
   "source": [
    "def question():\n",
    "    guess_count = 0\n",
    "    guess_limit = 3\n",
    "    chance_count = 1\n",
    "    chance_limit = 3\n",
    "    ans = 2\n",
    "    while guess_count < guess_limit:\n",
    "        guess_count += 1\n",
    "        que = int(input('''\n",
    "        National tree of India?\n",
    "        Option 01 : Mango\n",
    "        Option 02 : Baniyan\n",
    "        Option 03 : Apple\n",
    "        Option 04 : Pineapple\n",
    "        \n",
    "        \"Press 1, 2, 3 or 4\" \n",
    "        '''))\n",
    "        if que == int(ans):\n",
    "            print('Your answer is Correct. ')\n",
    "            break\n",
    "        elif que != ans and chance_count < chance_limit:\n",
    "            chance_limit -= 1\n",
    "            print(\"you have only {chance_limit} chance now\")\n",
    "    else:\n",
    "        print(\"Your all answers are wrong\")"
   ]
  },
  {
   "cell_type": "code",
   "execution_count": 6,
   "id": "03e9a9af",
   "metadata": {},
   "outputs": [],
   "source": [
    "Button(root, text= 'Age', font ='arial 15', command= detail1, bg = 'ghost white').place(x=60, y=120)\n",
    "Button(root, text= 'Name', font ='arial 15', command = detail2 , bg = 'ghost white').place(x=70, y=180)\n",
    "Button(root, text= 'Que', font ='arial 15', command= question, bg = 'ghost white').place(x=80, y=240)"
   ]
  },
  {
   "cell_type": "code",
   "execution_count": null,
   "id": "62a5c618",
   "metadata": {},
   "outputs": [
    {
     "name": "stdout",
     "output_type": "stream",
     "text": [
      "Age 35\n",
      "Enter your name\n",
      "Name Shital\n",
      "Hello Shital! Best of Luck!\n",
      "The game is about to start!\n",
      "Let's play KBC!\n",
      " Your first question is\n",
      "\n",
      "        National tree of India?\n",
      "        Option 01 : Mango\n",
      "        Option 02 : Baniyan\n",
      "        Option 03 : Apple\n",
      "        Option 04 : Pineapple\n",
      "        \n",
      "        \"Press 1, 2, 3 or 4\" \n",
      "        2\n",
      "Your answer is Correct. \n"
     ]
    }
   ],
   "source": [
    "root.mainloop()"
   ]
  },
  {
   "cell_type": "code",
   "execution_count": null,
   "id": "c23739b5",
   "metadata": {},
   "outputs": [],
   "source": []
  }
 ],
 "metadata": {
  "kernelspec": {
   "display_name": "Python 3 (ipykernel)",
   "language": "python",
   "name": "python3"
  },
  "language_info": {
   "codemirror_mode": {
    "name": "ipython",
    "version": 3
   },
   "file_extension": ".py",
   "mimetype": "text/x-python",
   "name": "python",
   "nbconvert_exporter": "python",
   "pygments_lexer": "ipython3",
   "version": "3.9.12"
  }
 },
 "nbformat": 4,
 "nbformat_minor": 5
}
